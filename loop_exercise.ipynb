{
 "cells": [
  {
   "cell_type": "markdown",
   "metadata": {},
   "source": [
    "## For loop exercises\n",
    "\n",
    "The built-in function `range` creates a sequence of numbers. It takes 1,2, or 3 parameters:\n",
    "\n",
    "* `range(3)` = 0,1,2\n",
    "* `range(2,5)` = 2,3,4\n",
    "* `range(3,10,2)` = 3,5,7,9\n",
    "\n",
    "Using `range`, write a loop that prints the first 3 natural numbers."
   ]
  },
  {
   "cell_type": "code",
   "execution_count": 2,
   "metadata": {},
   "outputs": [
    {
     "name": "stdout",
     "output_type": "stream",
     "text": [
      "1\n",
      "2\n",
      "3\n"
     ]
    }
   ],
   "source": [
    "for i in range(1,4):\n",
    "    print(i)"
   ]
  },
  {
   "cell_type": "markdown",
   "metadata": {},
   "source": [
    "Write a loop that calculates `5 ** 3`"
   ]
  },
  {
   "cell_type": "code",
   "execution_count": 5,
   "metadata": {},
   "outputs": [
    {
     "name": "stdout",
     "output_type": "stream",
     "text": [
      "125\n"
     ]
    }
   ],
   "source": [
    "out = 1\n",
    "for i in range(3):\n",
    "    out = out * 5\n",
    "print(out)"
   ]
  },
  {
   "cell_type": "markdown",
   "metadata": {},
   "source": [
    "Strings can be concatenated using the `+` operator. \n",
    "\n",
    "Write a loop that takes a string and produces a new string with the characters in reverse order."
   ]
  },
  {
   "cell_type": "code",
   "execution_count": 11,
   "metadata": {},
   "outputs": [
    {
     "name": "stdout",
     "output_type": "stream",
     "text": [
      "notweN\n"
     ]
    }
   ],
   "source": [
    "in_string = \"Newton\"\n",
    "out_string = ''\n",
    "\n",
    "for i in in_string:\n",
    "    out_string = i+out_string\n",
    "    \n",
    "print(out_string)"
   ]
  },
  {
   "cell_type": "markdown",
   "metadata": {},
   "source": [
    "Write a loop using `enumerate` which computes the value of any polynomial, given `x` and coefficients `c`."
   ]
  },
  {
   "cell_type": "code",
   "execution_count": 16,
   "metadata": {},
   "outputs": [
    {
     "name": "stdout",
     "output_type": "stream",
     "text": [
      "97\n"
     ]
    }
   ],
   "source": [
    "x = 5\n",
    "c = [2,4,3]\n",
    "\n",
    "y = 0\n",
    "\n",
    "for i,c in enumerate(cc):\n",
    "    y = y + c*x**i\n",
    "\n",
    "print(y)"
   ]
  }
 ],
 "metadata": {
  "kernelspec": {
   "display_name": "Python 3",
   "language": "python",
   "name": "python3"
  },
  "language_info": {
   "codemirror_mode": {
    "name": "ipython",
    "version": 3
   },
   "file_extension": ".py",
   "mimetype": "text/x-python",
   "name": "python",
   "nbconvert_exporter": "python",
   "pygments_lexer": "ipython3",
   "version": "3.7.0"
  }
 },
 "nbformat": 4,
 "nbformat_minor": 2
}
