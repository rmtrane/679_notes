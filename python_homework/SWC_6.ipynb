{
 "cells": [
  {
   "cell_type": "markdown",
   "metadata": {},
   "source": [
    "# Creating Functions\n",
    "\n",
    "## Combining Functions\n",
    "\n",
    "“Adding” two strings produces their concatenation: 'a' + 'b' is 'ab'. Write a function called fence that takes two parameters called original and wrapper and returns a new string that has the wrapper character at the beginning and end of the original. A call to your function should look like this:"
   ]
  },
  {
   "cell_type": "code",
   "execution_count": 6,
   "metadata": {},
   "outputs": [],
   "source": [
    "def fence(original, wrapper):\n",
    "    return(wrapper + original + wrapper)"
   ]
  },
  {
   "cell_type": "code",
   "execution_count": 7,
   "metadata": {},
   "outputs": [
    {
     "data": {
      "text/plain": [
       "'*name*'"
      ]
     },
     "execution_count": 7,
     "metadata": {},
     "output_type": "execute_result"
    }
   ],
   "source": [
    "fence(\"name\", \"*\")"
   ]
  },
  {
   "cell_type": "markdown",
   "metadata": {},
   "source": [
    "## Return vs. Print\n",
    "\n",
    "Note that return and print are not interchangeable. print is a Python function that prints data to the screen. It enables us, users, see the data. return statement, on the other hand, makes data visible to the program. Let’s have a look at the following function:"
   ]
  },
  {
   "cell_type": "code",
   "execution_count": 9,
   "metadata": {},
   "outputs": [],
   "source": [
    "def add(a, b):\n",
    "    print(a + b)"
   ]
  },
  {
   "cell_type": "markdown",
   "metadata": {},
   "source": [
    "**Question**: What will we see if we execute the following commands?"
   ]
  },
  {
   "cell_type": "code",
   "execution_count": 10,
   "metadata": {},
   "outputs": [
    {
     "name": "stdout",
     "output_type": "stream",
     "text": [
      "10\n",
      "None\n"
     ]
    }
   ],
   "source": [
    "A = add(7, 3)\n",
    "print(A)"
   ]
  },
  {
   "cell_type": "markdown",
   "metadata": {},
   "source": [
    "The first line will execute the function, which will print the result `a+b`. The second line will return nothing, because nothing is returned from the function, so nothing is assigned to the variable `A`"
   ]
  },
  {
   "cell_type": "markdown",
   "metadata": {},
   "source": [
    "## Selecting Characters From Strings\n",
    "\n",
    "If the variable s refers to a string, then `s[0]` is the string’s first character and `s[-1]` is its last. Write a function called `outer` that returns a string made up of just the first and last characters of its input. "
   ]
  },
  {
   "cell_type": "code",
   "execution_count": 12,
   "metadata": {},
   "outputs": [
    {
     "data": {
      "text/plain": [
       "'Tt'"
      ]
     },
     "execution_count": 12,
     "metadata": {},
     "output_type": "execute_result"
    }
   ],
   "source": [
    "def outer(string):\n",
    "    return(string[0] + string[-1])\n",
    "\n",
    "outer(\"Test\")"
   ]
  },
  {
   "cell_type": "markdown",
   "metadata": {},
   "source": [
    "## Rescalling an array\n",
    "\n",
    "Write a function `rescale` that takes an array as input and returns a corresponding array of values scaled to lie in the range 0.0 to 1.0. (Hint: If L and H are the lowest and highest values in the original array, then the replacement for a value v should be (v-L) / (H-L).)"
   ]
  },
  {
   "cell_type": "code",
   "execution_count": 60,
   "metadata": {},
   "outputs": [
    {
     "name": "stdout",
     "output_type": "stream",
     "text": [
      "Original array:\n"
     ]
    },
    {
     "data": {
      "text/plain": [
       "array([[1, 2],\n",
       "       [6, 3]])"
      ]
     },
     "metadata": {},
     "output_type": "display_data"
    },
    {
     "name": "stdout",
     "output_type": "stream",
     "text": [
      "Rescaled array:\n"
     ]
    },
    {
     "data": {
      "text/plain": [
       "array([[0. , 0.2],\n",
       "       [1. , 0.4]])"
      ]
     },
     "metadata": {},
     "output_type": "display_data"
    }
   ],
   "source": [
    "import numpy\n",
    "def rescale(input_data):\n",
    "    # Get largest value:\n",
    "    max_value = numpy.max(input_data)\n",
    "    # Get smallest value:\n",
    "    min_value = numpy.min(input_data)\n",
    "    # Calculate output\n",
    "    output_data = (input_data - min_value)/(max_value - min_value)\n",
    "    \n",
    "    return(output_data)\n",
    "\n",
    "in_array = numpy.array([[1, 2], [6, 3]])\n",
    "out_array = rescale(in_array)\n",
    "\n",
    "print(\"Original array:\")\n",
    "display(in_array)\n",
    "print(\"Rescaled array:\")\n",
    "display(out_array)"
   ]
  },
  {
   "cell_type": "markdown",
   "metadata": {},
   "source": [
    "## Testing and Documenting Your Function\n",
    "\n",
    "Run the commands help(numpy.arange) and help(numpy.linspace) to see how to use these functions to generate regularly-spaced values, then use those values to test your rescale function. Once you’ve successfully tested your function, add a docstring that explains what it does.\n",
    "\n",
    "Testing my function:"
   ]
  },
  {
   "cell_type": "code",
   "execution_count": 61,
   "metadata": {},
   "outputs": [
    {
     "data": {
      "text/plain": [
       "array([0.  , 0.25, 0.5 , 0.75, 1.  ])"
      ]
     },
     "execution_count": 61,
     "metadata": {},
     "output_type": "execute_result"
    }
   ],
   "source": [
    "## Create 5 equally spaced numbers.\n",
    "test_array = numpy.linspace(4,10, num=5)\n",
    "## When rescaled, should return 0, 0.25, 0.5, 0.75, 1:\n",
    "rescale(test_array)\n",
    "## SUCCESS!"
   ]
  },
  {
   "cell_type": "markdown",
   "metadata": {},
   "source": [
    "Adding a docstring to my function."
   ]
  },
  {
   "cell_type": "code",
   "execution_count": 66,
   "metadata": {},
   "outputs": [],
   "source": [
    "def rescale(input_data):\n",
    "    '''This function takes an array and returns a new array of same dimensions with rescaled values. \n",
    "    The new array will have values between 0 and 1 spaced in the same way as the input array.\n",
    "    \n",
    "    Examples:\n",
    "    \n",
    "    >>> ## Create 5 equally spaced numbers.\n",
    "    >>> test_array = numpy.linspace(4,10, num=5)\n",
    "    >>> ## When rescaled, should return 0, 0.25, 0.5, 0.75, 1:\n",
    "    >>> rescale(test_array)\n",
    "    array([0.  , 0.25, 0.5 , 0.75, 1.  ])\n",
    "    '''\n",
    "    # Get largest value:\n",
    "    max_value = numpy.max(input_data)\n",
    "    # Get smallest value:\n",
    "    min_value = numpy.min(input_data)\n",
    "    # Calculate output\n",
    "    output_data = (input_data - min_value)/(max_value - min_value)\n",
    "    \n",
    "    return(output_data)"
   ]
  },
  {
   "cell_type": "code",
   "execution_count": 67,
   "metadata": {},
   "outputs": [
    {
     "name": "stdout",
     "output_type": "stream",
     "text": [
      "Help on function rescale in module __main__:\n",
      "\n",
      "rescale(input_data)\n",
      "    This function takes an array and returns a new array of same dimensions with rescaled values. \n",
      "    The new array will have values between 0 and 1 spaced in the same way as the input array.\n",
      "    \n",
      "    Examples:\n",
      "    \n",
      "    >>> ## Create 5 equally spaced numbers.\n",
      "    >>> test_array = numpy.linspace(4,10, num=5)\n",
      "    >>> ## When rescaled, should return 0, 0.25, 0.5, 0.75, 1:\n",
      "    >>> rescale(test_array)\n",
      "    array([0.  , 0.25, 0.5 , 0.75, 1.  ])\n",
      "\n"
     ]
    }
   ],
   "source": [
    "help(rescale)"
   ]
  },
  {
   "cell_type": "markdown",
   "metadata": {},
   "source": [
    "## Defining Defaults\n",
    "\n",
    "Rewrite the rescale function so that it scales data to lie between 0.0 and 1.0 by default, but will allow the caller to specify lower and upper bounds if they want."
   ]
  },
  {
   "cell_type": "code",
   "execution_count": 75,
   "metadata": {},
   "outputs": [],
   "source": [
    "def rescale(input_data, interval = (0, 1)):\n",
    "    '''Rescales values to be within interval'''\n",
    "    min_value = numpy.min(input_data)\n",
    "    max_value = numpy.max(input_data)\n",
    "    output_data = interval[0] + (input_data - min_value)/(max_value - min_value)*(interval[1] - interval[0])\n",
    "    return(output_data)"
   ]
  },
  {
   "cell_type": "code",
   "execution_count": 76,
   "metadata": {},
   "outputs": [
    {
     "data": {
      "text/plain": [
       "array([-1. , -0.5,  0. ,  0.5,  1. ])"
      ]
     },
     "execution_count": 76,
     "metadata": {},
     "output_type": "execute_result"
    }
   ],
   "source": [
    "rescale(test_array, interval = (-1,1))"
   ]
  },
  {
   "cell_type": "markdown",
   "metadata": {},
   "source": [
    "## Variables inside and outside functions\n",
    "\n",
    "**Q**: What does the following piece of code display when run - and why?\n",
    "\n",
    "**A**: This code will return 8, 41, and 32 fahrenheit converted to kelvin, and finally 0. The variable `k` is not changed outside the scope of the function, so it will still be zero."
   ]
  },
  {
   "cell_type": "code",
   "execution_count": 82,
   "metadata": {},
   "outputs": [
    {
     "name": "stdout",
     "output_type": "stream",
     "text": [
      "259.81666666666666\n",
      "278.15\n",
      "273.15\n",
      "0\n"
     ]
    }
   ],
   "source": [
    "f = 0\n",
    "k = 0\n",
    "\n",
    "def f2k(f):\n",
    "  k = ((f-32)*(5.0/9.0)) + 273.15\n",
    "  return k\n",
    "\n",
    "print(f2k(8))\n",
    "print(f2k(41))\n",
    "print(f2k(32))\n",
    "\n",
    "print(k)"
   ]
  },
  {
   "cell_type": "markdown",
   "metadata": {},
   "source": [
    "## Mixing Default and Non-Default Parameters\n",
    "\n",
    "The following code will return in the output `SyntaxError`. This is because the variable `one` and `three` are not given default values, while `two` is. `one` and `three` should be defined first for this to work."
   ]
  },
  {
   "cell_type": "code",
   "execution_count": 87,
   "metadata": {},
   "outputs": [
    {
     "ename": "SyntaxError",
     "evalue": "non-default argument follows default argument (<ipython-input-87-28e3d1a5100b>, line 1)",
     "output_type": "error",
     "traceback": [
      "\u001b[0;36m  File \u001b[0;32m\"<ipython-input-87-28e3d1a5100b>\"\u001b[0;36m, line \u001b[0;32m1\u001b[0m\n\u001b[0;31m    def numbers(one, two=2, three, four=4):\u001b[0m\n\u001b[0m               ^\u001b[0m\n\u001b[0;31mSyntaxError\u001b[0m\u001b[0;31m:\u001b[0m non-default argument follows default argument\n"
     ]
    }
   ],
   "source": [
    "def numbers(one, two=2, three, four=4):\n",
    "    n = str(one) + str(two) + str(three) + str(four)\n",
    "    return n\n",
    "\n",
    "print(numbers(1, three=3))"
   ]
  },
  {
   "cell_type": "markdown",
   "metadata": {},
   "source": [
    "The following code will work just fine, since all variables without default values are put first in the function definition."
   ]
  },
  {
   "cell_type": "code",
   "execution_count": 88,
   "metadata": {},
   "outputs": [
    {
     "name": "stdout",
     "output_type": "stream",
     "text": [
      "a:  -1 b:  2 c: 6\n"
     ]
    }
   ],
   "source": [
    "def func(a, b=3, c=6):\n",
    "  print('a: ', a, 'b: ', b, 'c:', c)\n",
    "\n",
    "func(-1, 2)"
   ]
  },
  {
   "cell_type": "markdown",
   "metadata": {},
   "source": [
    "## The Old Switcheroo\n",
    "\n",
    "The code below will print `3 7` since the function doesn't print or return anything."
   ]
  },
  {
   "cell_type": "code",
   "execution_count": 89,
   "metadata": {},
   "outputs": [
    {
     "name": "stdout",
     "output_type": "stream",
     "text": [
      "3 7\n"
     ]
    }
   ],
   "source": [
    "a = 3\n",
    "b = 7\n",
    "\n",
    "def swap(a, b):\n",
    "    temp = a\n",
    "    a = b\n",
    "    b = temp\n",
    "\n",
    "swap(a, b)\n",
    "\n",
    "print(a, b)"
   ]
  }
 ],
 "metadata": {
  "kernelspec": {
   "display_name": "Python 3",
   "language": "python",
   "name": "python3"
  },
  "language_info": {
   "codemirror_mode": {
    "name": "ipython",
    "version": 3
   },
   "file_extension": ".py",
   "mimetype": "text/x-python",
   "name": "python",
   "nbconvert_exporter": "python",
   "pygments_lexer": "ipython3",
   "version": "3.7.0"
  }
 },
 "nbformat": 4,
 "nbformat_minor": 2
}
