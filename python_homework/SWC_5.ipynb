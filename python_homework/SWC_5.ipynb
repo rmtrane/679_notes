{
 "cells": [
  {
   "cell_type": "markdown",
   "metadata": {},
   "source": [
    "# Making Choices\n",
    "\n",
    "## What is Truth?\n",
    "\n",
    "Run the following code and define the rules"
   ]
  },
  {
   "cell_type": "code",
   "execution_count": 1,
   "metadata": {},
   "outputs": [
    {
     "name": "stdout",
     "output_type": "stream",
     "text": [
      "word is true\n",
      "non-empty list is true\n",
      "one is true\n"
     ]
    }
   ],
   "source": [
    "if '':\n",
    "    print('empty string is true')\n",
    "if 'word':\n",
    "    print('word is true')\n",
    "if []:\n",
    "    print('empty list is true')\n",
    "if [1, 2, 3]:\n",
    "    print('non-empty list is true')\n",
    "if 0:\n",
    "    print('zero is true')\n",
    "if 1:\n",
    "    print('one is true')"
   ]
  },
  {
   "cell_type": "markdown",
   "metadata": {},
   "source": [
    "A non-empty string is `True` -- empty string is `False`\n",
    "\n",
    "A non-empty list is `True` -- empty list is `False`\n",
    "\n",
    "`1` is `True` -- `0` is `False`\n"
   ]
  },
  {
   "cell_type": "markdown",
   "metadata": {},
   "source": [
    "## That's Not Not What I Meant\n",
    "\n",
    "After reading and running the code below, write some if statements that use not to test the rule that you formulated in the previous challenge."
   ]
  },
  {
   "cell_type": "code",
   "execution_count": 2,
   "metadata": {},
   "outputs": [
    {
     "name": "stdout",
     "output_type": "stream",
     "text": [
      "empty string is not true\n",
      "not not True is true\n"
     ]
    }
   ],
   "source": [
    "if not '':\n",
    "    print('empty string is not true')\n",
    "if not 'word':\n",
    "    print('word is not true')\n",
    "if not not True:\n",
    "    print('not not True is true')"
   ]
  },
  {
   "cell_type": "markdown",
   "metadata": {},
   "source": [
    "No idea what I'm supposed to do here..."
   ]
  },
  {
   "cell_type": "markdown",
   "metadata": {},
   "source": [
    "## Close Enough\n",
    "\n",
    "Write some conditions that print True if the variable a is within 10% of the variable b and False otherwise. Compare your implementation with your partner’s: do you get the same answer for all possible pairs of numbers?"
   ]
  },
  {
   "cell_type": "code",
   "execution_count": 7,
   "metadata": {},
   "outputs": [
    {
     "data": {
      "text/plain": [
       "True"
      ]
     },
     "execution_count": 7,
     "metadata": {},
     "output_type": "execute_result"
    }
   ],
   "source": [
    "a = 1\n",
    "b = 5\n",
    "\n",
    "(a > 0.9*b) or (a < 1.1*b)"
   ]
  },
  {
   "cell_type": "markdown",
   "metadata": {},
   "source": [
    "## In-Place Operators\n",
    "\n",
    "Write some code that sums the positive and negative numbers in a list separately, using in-place operators. Do you think the result is more or less readable than writing the same without in-place operators?"
   ]
  },
  {
   "cell_type": "code",
   "execution_count": 11,
   "metadata": {},
   "outputs": [
    {
     "name": "stdout",
     "output_type": "stream",
     "text": [
      "The sum of positive numbers is -7\n",
      "The sum of negative numbers is 19\n"
     ]
    }
   ],
   "source": [
    "x = [3, 4, -1, 3, -6, 9] # list of numbers\n",
    "\n",
    "sum_pos = 0\n",
    "sum_neg = 0\n",
    "\n",
    "for n in x:\n",
    "    if n < 0:\n",
    "        sum_pos += n\n",
    "    elif n > 0:\n",
    "        sum_neg += n\n",
    "        \n",
    "print(\"The sum of positive numbers is\", sum_pos)\n",
    "print(\"The sum of negative numbers is\", sum_neg)"
   ]
  },
  {
   "cell_type": "markdown",
   "metadata": {},
   "source": [
    "## Sorting a List Into Buckets"
   ]
  },
  {
   "cell_type": "code",
   "execution_count": 16,
   "metadata": {},
   "outputs": [
    {
     "name": "stdout",
     "output_type": "stream",
     "text": [
      "Print small_files: ['small-01.csv', 'small-02.csv']\n",
      "Print large_files: ['inflammation-01.csv', 'inflammation-02.csv']\n",
      "Print other_files: ['myscript.py']\n"
     ]
    }
   ],
   "source": [
    "files = ['inflammation-01.csv', \n",
    "         'myscript.py', \n",
    "         'inflammation-02.csv', \n",
    "         'small-01.csv', \n",
    "         'small-02.csv']\n",
    "large_files = []\n",
    "small_files = []\n",
    "other_files = []\n",
    "\n",
    "for file in files:\n",
    "    if file.startswith(\"small\"):\n",
    "        small_files.append(file)\n",
    "    elif file.startswith(\"inflammation\"):\n",
    "        large_files.append(file)\n",
    "    else:\n",
    "        other_files.append(file)\n",
    "        \n",
    "print(\"Print small_files:\", small_files)\n",
    "print(\"Print large_files:\", large_files)\n",
    "print(\"Print other_files:\", other_files)"
   ]
  },
  {
   "cell_type": "markdown",
   "metadata": {},
   "source": [
    "## Counting Vowels\n",
    "\n",
    "1. Write a loop that counts the number of vowels in a character string.\n",
    "2. Test it on a few individual words and full sentences.\n",
    "3. Once you are done, compare your solution to your neighbor’s. Did you make the same decisions about how to handle the letter ‘y’ (which some people think is a vowel, and some do not)?"
   ]
  },
  {
   "cell_type": "code",
   "execution_count": 19,
   "metadata": {},
   "outputs": [
    {
     "name": "stdout",
     "output_type": "stream",
     "text": [
      "The number of vowels in the string 'jsaiopbrnlawfeoipxvc' is 7\n"
     ]
    }
   ],
   "source": [
    "string = \"jsaiopbrnlawfeoipxvc\"\n",
    "\n",
    "vowels = [\"a\",\"e\",\"o\",\"y\",\"u\",\"i\"] # From solution: vowels = 'aeiouAEIOU'\n",
    "n_vowels = 0\n",
    "\n",
    "for char in string:\n",
    "    if char in vowels:\n",
    "        n_vowels += 1\n",
    "        \n",
    "print(\"The number of vowels in the string '\", string, \"' is \", n_vowels, sep=\"\")"
   ]
  }
 ],
 "metadata": {
  "kernelspec": {
   "display_name": "Python 3",
   "language": "python",
   "name": "python3"
  },
  "language_info": {
   "codemirror_mode": {
    "name": "ipython",
    "version": 3
   },
   "file_extension": ".py",
   "mimetype": "text/x-python",
   "name": "python",
   "nbconvert_exporter": "python",
   "pygments_lexer": "ipython3",
   "version": "3.7.0"
  }
 },
 "nbformat": 4,
 "nbformat_minor": 2
}
