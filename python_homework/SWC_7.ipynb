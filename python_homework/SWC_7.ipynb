{
 "cells": [
  {
   "cell_type": "markdown",
   "metadata": {},
   "source": [
    "# Errors and Exceptions\n",
    "\n",
    "## Reading Error Messages\n",
    "\n",
    "Read the python code and the resulting traceback below, and answer the following questions:\n",
    "\n",
    "- How many levels does the traceback have?\n",
    "    - 3\n",
    "- What is the function name where the error occurred?\n",
    "    - `print_message`\n",
    "- On which line number in this function did the error occurr?\n",
    "    - 11\n",
    "- What is the type of error?\n",
    "    - `KeyError`: \n",
    "- What is the error message?\n",
    "    - There is none."
   ]
  },
  {
   "cell_type": "code",
   "execution_count": null,
   "metadata": {},
   "outputs": [],
   "source": [
    "# This code has an intentional error. Do not type it directly;\n",
    "# use it for reference to understand the error message below.\n",
    "def print_message(day):\n",
    "    messages = {\n",
    "        \"monday\": \"Hello, world!\",\n",
    "        \"tuesday\": \"Today is tuesday!\",\n",
    "        \"wednesday\": \"It is the middle of the week.\",\n",
    "        \"thursday\": \"Today is Donnerstag in German!\",\n",
    "        \"friday\": \"Last day of the week!\",\n",
    "        \"saturday\": \"Hooray for the weekend!\",\n",
    "        \"sunday\": \"Aw, the weekend is almost over.\"\n",
    "    }\n",
    "    print(messages[day])\n",
    "\n",
    "def print_friday_message():\n",
    "    print_message(\"Friday\")\n",
    "\n",
    "print_friday_message()"
   ]
  },
  {
   "cell_type": "markdown",
   "metadata": {},
   "source": [
    "## Identifying Syntax Errors\n",
    "\n",
    "- Read the code below, and (without running it) try to identify what the errors are.\n",
    "    - the second line of the function definition is not aligned with the rest (a space too many)\n",
    "- Run the code, and read the error message. Is it a `SyntaxError` or an `IndentationError`?\n",
    "    - `SyntaxError`\n",
    "- Fix the error.\n",
    "- Repeat steps 2 and 3, until you have fixed all the errors.\n",
    "    - First error was due to missing colon, second another `SyntaxError` due to missing parentheses, third `IndentationError` due to wrong indentation."
   ]
  },
  {
   "cell_type": "code",
   "execution_count": 7,
   "metadata": {},
   "outputs": [
    {
     "name": "stdout",
     "output_type": "stream",
     "text": [
      "Syntax errors are annoying.\n",
      "But at least python tells us about them!\n",
      "So they are usually not too hard to fix.\n"
     ]
    }
   ],
   "source": [
    "def another_function():\n",
    "  print(\"Syntax errors are annoying.\")\n",
    "  print(\"But at least python tells us about them!\")\n",
    "  print(\"So they are usually not too hard to fix.\")\n",
    "\n",
    "another_function()"
   ]
  },
  {
   "cell_type": "markdown",
   "metadata": {},
   "source": [
    "## Identifying Variable Name Errors\n",
    "\n",
    "- Read the code below, and (without running it) try to identify what the errors are.\n",
    "    - `Number` in `if` statement is misspelled, `message` and `a` are not defined\n",
    "- Run the code, and read the error message. What type of `NameError` do you think this is? In other words, is it a string with no quotes, a misspelled variable, or a variable that should have been defined but was not?\n",
    "    - Misspelled variable (`number` misspelled as `Number`)\n",
    "- Fix the error.\n",
    "- Repeat steps 2 and 3, until you have fixed all the errors."
   ]
  },
  {
   "cell_type": "code",
   "execution_count": 13,
   "metadata": {},
   "outputs": [
    {
     "name": "stdout",
     "output_type": "stream",
     "text": [
      "abbabbabba\n"
     ]
    }
   ],
   "source": [
    "message = \"\"\n",
    "for number in range(10):\n",
    "    # use a if the number is a multiple of 3, otherwise use b\n",
    "    if (number % 3) == 0:\n",
    "        message = message + \"a\"\n",
    "    else:\n",
    "        message = message + \"b\"\n",
    "print(message)"
   ]
  },
  {
   "cell_type": "markdown",
   "metadata": {},
   "source": [
    "## Identifying Index Errors\n",
    "\n",
    "- Read the code below, and (without running it) try to identify what the errors are.\n",
    "    - `seasons` only have four elements, so `seasons[4]` is not well defined.\n",
    "- Run the code, and read the error message. What type of error is it?\n",
    "    - `IndexError`\n",
    "- Fix the error.\n",
    "    - My favorite season is Fall, hence the 2!!"
   ]
  },
  {
   "cell_type": "code",
   "execution_count": 1,
   "metadata": {},
   "outputs": [
    {
     "name": "stdout",
     "output_type": "stream",
     "text": [
      "My favorite season is Fall\n"
     ]
    }
   ],
   "source": [
    "seasons = ['Spring', 'Summer', 'Fall', 'Winter']\n",
    "print('My favorite season is', seasons[2])"
   ]
  }
 ],
 "metadata": {
  "kernelspec": {
   "display_name": "Python 3",
   "language": "python",
   "name": "python3"
  },
  "language_info": {
   "codemirror_mode": {
    "name": "ipython",
    "version": 3
   },
   "file_extension": ".py",
   "mimetype": "text/x-python",
   "name": "python",
   "nbconvert_exporter": "python",
   "pygments_lexer": "ipython3",
   "version": "3.7.0"
  }
 },
 "nbformat": 4,
 "nbformat_minor": 2
}
