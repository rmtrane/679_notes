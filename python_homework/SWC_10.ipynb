{
 "cells": [
  {
   "cell_type": "markdown",
   "metadata": {},
   "source": [
    "# Command-line Programs\n",
    "\n",
    "## Arithmetic on the Command Line\n",
    "\n",
    "See the file `arith.py` for my solution, `arith_better.py` for the solution given in the SWC.\n",
    "\n",
    "## Finding Particular Files\n",
    "\n",
    "See the file `my_ls.py`.\n",
    "\n",
    "## Changing Flags\n",
    "\n",
    "See the file `readings.py`\n",
    "\n",
    "## Adding a Help Message\n",
    "\n",
    "See the file `readings_w_help.py`\n",
    "\n",
    "## Adding a Default Action\n",
    "\n",
    "See the file `readings_default_mean.py`\n",
    "\n",
    "## A File-Checker\n",
    "\n",
    "See the file `check.py`\n",
    "\n",
    "## Counting Lines\n",
    "\n",
    "See the file `line_count.py`\n",
    "\n",
    "## Generate an Error Message\n",
    "\n",
    "See the file `check_arguments.py`"
   ]
  }
 ],
 "metadata": {
  "kernelspec": {
   "display_name": "Python 3",
   "language": "python",
   "name": "python3"
  },
  "language_info": {
   "codemirror_mode": {
    "name": "ipython",
    "version": 3
   },
   "file_extension": ".py",
   "mimetype": "text/x-python",
   "name": "python",
   "nbconvert_exporter": "python",
   "pygments_lexer": "ipython3",
   "version": "3.7.0"
  }
 },
 "nbformat": 4,
 "nbformat_minor": 2
}
