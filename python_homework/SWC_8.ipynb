{
 "cells": [
  {
   "cell_type": "markdown",
   "metadata": {},
   "source": [
    "# Defensive Programming\n",
    "\n",
    "## Pre- and post-conditions\n",
    "\n",
    "*Q*: Suppose you are writing a function called average that calculates the average of the numbers in a list. What pre-conditions and post-conditions would you write for it? \n",
    "\n",
    "*A*: The average would have to be within the range of the data, so would check that. \n",
    "\n",
    "## Testing assertions\n",
    "\n",
    "*Q*: Given a sequence of a number of cars, the function `get_total_cars` returns the total number of cars."
   ]
  },
  {
   "cell_type": "code",
   "execution_count": null,
   "metadata": {},
   "outputs": [],
   "source": [
    "get_total_cars([1, 2, 3, 4])\n",
    "10\n",
    "get_total_cars(['a', 'b', 'c'])\n",
    "ValueError: invalid literal for int() with base 10: 'a'"
   ]
  },
  {
   "cell_type": "markdown",
   "metadata": {},
   "source": [
    "Explain in words what the assertions in this function check, and for each one, give an example of input that will make that assertion fail."
   ]
  },
  {
   "cell_type": "code",
   "execution_count": null,
   "metadata": {},
   "outputs": [],
   "source": [
    "def get_total(values):\n",
    "    assert len(values) > 0\n",
    "    for element in values:\n",
    "        assert int(element)\n",
    "    values = [int(element) for element in values]\n",
    "    total = sum(values)\n",
    "    assert total > 0\n",
    "    return total"
   ]
  },
  {
   "cell_type": "markdown",
   "metadata": {},
   "source": [
    "First, make sure values are given -- `[]` would fail. Second, make sure values are numeric -- `[1 \"A\" 4]` would fail. Third, make sure the total is positive -- `[1 -5 2]` would fail. "
   ]
  },
  {
   "cell_type": "markdown",
   "metadata": {},
   "source": [
    "## Fixing and testing\n",
    "\n",
    "Fix range_overlap. Re-run test_range_overlap after each change you make.\n",
    "\n",
    "*Q*: Changes made:\n",
    "\n",
    "* start `lowest` at minimum value in data\n",
    "* start `highest` at maximum value in data\n",
    "* return `None` if `lowest` is greater than or equal to `highest`"
   ]
  },
  {
   "cell_type": "code",
   "execution_count": 24,
   "metadata": {},
   "outputs": [],
   "source": [
    "import numpy\n",
    "\n",
    "def range_overlap(ranges):\n",
    "    '''Return common overlap among a set of [low, high] ranges.'''\n",
    "    lowest = numpy.min(ranges)\n",
    "    highest = numpy.max(ranges)\n",
    "    for (low, high) in ranges:\n",
    "        lowest = max(lowest, low)\n",
    "        highest = min(highest, high)\n",
    "    \n",
    "    if (lowest >= highest):\n",
    "        return None\n",
    "    else: \n",
    "        return (lowest, highest)\n",
    "\n",
    "def test_range_overlap():\n",
    "    assert range_overlap([ (0.0, 1.0), (5.0, 6.0) ]) == None\n",
    "    assert range_overlap([ (0.0, 1.0), (1.0, 2.0) ]) == None\n",
    "    assert range_overlap([ (0.0, 1.0) ]) == (0.0, 1.0)\n",
    "    assert range_overlap([ (2.0, 3.0), (2.0, 4.0) ]) == (2.0, 3.0)\n",
    "    assert range_overlap([ (0.0, 1.0), (0.0, 2.0), (-1.0, 1.0) ]) == (0.0, 1.0)"
   ]
  },
  {
   "cell_type": "code",
   "execution_count": 23,
   "metadata": {},
   "outputs": [],
   "source": [
    "test_range_overlap()"
   ]
  }
 ],
 "metadata": {
  "kernelspec": {
   "display_name": "Python 3",
   "language": "python",
   "name": "python3"
  },
  "language_info": {
   "codemirror_mode": {
    "name": "ipython",
    "version": 3
   },
   "file_extension": ".py",
   "mimetype": "text/x-python",
   "name": "python",
   "nbconvert_exporter": "python",
   "pygments_lexer": "ipython3",
   "version": "3.7.0"
  }
 },
 "nbformat": 4,
 "nbformat_minor": 2
}
